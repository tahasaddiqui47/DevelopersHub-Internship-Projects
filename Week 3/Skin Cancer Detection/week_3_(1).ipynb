{
  "metadata": {
    "kernelspec": {
      "language": "python",
      "display_name": "Python 3",
      "name": "python3"
    },
    "language_info": {
      "name": "python",
      "version": "3.10.12",
      "mimetype": "text/x-python",
      "codemirror_mode": {
        "name": "ipython",
        "version": 3
      },
      "pygments_lexer": "ipython3",
      "nbconvert_exporter": "python",
      "file_extension": ".py"
    },
    "kaggle": {
      "accelerator": "nvidiaTeslaT4",
      "dataSources": [
        {
          "sourceType": "datasetVersion",
          "sourceId": 643971,
          "datasetId": 319080,
          "databundleVersionId": 663231
        },
        {
          "sourceType": "datasetVersion",
          "sourceId": 505351,
          "datasetId": 174469,
          "databundleVersionId": 521485
        }
      ],
      "dockerImageVersionId": 30840,
      "isInternetEnabled": true,
      "language": "python",
      "sourceType": "notebook",
      "isGpuEnabled": true
    },
    "colab": {
      "provenance": []
    }
  },
  "nbformat_minor": 0,
  "nbformat": 4,
  "cells": [
    {
      "cell_type": "markdown",
      "source": [
        "### Loading Dataset"
      ],
      "metadata": {
        "id": "Powglow3ISow"
      }
    },
    {
      "cell_type": "code",
      "source": [
        "# Checking Available Devices\n",
        "import tensorflow as tf\n",
        "from tensorflow.python.client import device_lib\n",
        "print(device_lib.list_local_devices())"
      ],
      "metadata": {
        "trusted": true,
        "execution": {
          "iopub.status.busy": "2025-01-22T13:02:44.389916Z",
          "iopub.execute_input": "2025-01-22T13:02:44.390115Z",
          "iopub.status.idle": "2025-01-22T13:02:56.957551Z",
          "shell.execute_reply.started": "2025-01-22T13:02:44.390096Z",
          "shell.execute_reply": "2025-01-22T13:02:56.956606Z"
        },
        "id": "x-0JTzvYISoz",
        "outputId": "79c197c9-9ab0-450e-dcd8-cca08198647c"
      },
      "outputs": [
        {
          "name": "stdout",
          "text": "[name: \"/device:CPU:0\"\ndevice_type: \"CPU\"\nmemory_limit: 268435456\nlocality {\n}\nincarnation: 17790736159095323110\nxla_global_id: -1\n, name: \"/device:GPU:0\"\ndevice_type: \"GPU\"\nmemory_limit: 14619377664\nlocality {\n  bus_id: 1\n  links {\n    link {\n      device_id: 1\n      type: \"StreamExecutor\"\n      strength: 1\n    }\n  }\n}\nincarnation: 8033048471990841791\nphysical_device_desc: \"device: 0, name: Tesla T4, pci bus id: 0000:00:04.0, compute capability: 7.5\"\nxla_global_id: 416903419\n, name: \"/device:GPU:1\"\ndevice_type: \"GPU\"\nmemory_limit: 14619377664\nlocality {\n  bus_id: 1\n  links {\n    link {\n      type: \"StreamExecutor\"\n      strength: 1\n    }\n  }\n}\nincarnation: 9083268982805941779\nphysical_device_desc: \"device: 1, name: Tesla T4, pci bus id: 0000:00:05.0, compute capability: 7.5\"\nxla_global_id: 2144165316\n]\n",
          "output_type": "stream"
        }
      ],
      "execution_count": null
    },
    {
      "cell_type": "code",
      "source": [
        "import kagglehub\n",
        "\n",
        "# Download latest version\n",
        "path = kagglehub.dataset_download(\"fanconic/skin-cancer-malignant-vs-benign\")\n",
        "\n",
        "print(\"Path to dataset files:\", path)"
      ],
      "metadata": {
        "_uuid": "8f2839f25d086af736a60e9eeb907d3b93b6e0e5",
        "_cell_guid": "b1076dfc-b9ad-4769-8c92-a6c4dae69d19",
        "trusted": true,
        "execution": {
          "iopub.status.busy": "2025-01-22T13:03:11.977265Z",
          "iopub.execute_input": "2025-01-22T13:03:11.977610Z",
          "iopub.status.idle": "2025-01-22T13:03:13.646217Z",
          "shell.execute_reply.started": "2025-01-22T13:03:11.977579Z",
          "shell.execute_reply": "2025-01-22T13:03:13.645337Z"
        },
        "id": "a64ADdg6ISo0",
        "outputId": "62b222a0-3299-4150-8153-e9d8669c3d86"
      },
      "outputs": [
        {
          "name": "stdout",
          "text": "Path to dataset files: /kaggle/input/skin-cancer-malignant-vs-benign\n",
          "output_type": "stream"
        }
      ],
      "execution_count": null
    },
    {
      "cell_type": "markdown",
      "source": [
        "### Data Preprocessing"
      ],
      "metadata": {
        "id": "p0eECoD_ISo1"
      }
    },
    {
      "cell_type": "code",
      "source": [
        "import os\n",
        "import numpy as np\n",
        "import tensorflow as tf\n",
        "from tensorflow.keras.preprocessing.image import ImageDataGenerator\n",
        "from sklearn.model_selection import train_test_split\n",
        "\n",
        "# Parameters\n",
        "IMG_SIZE = (224, 224)\n",
        "BATCH_SIZE = 32  # will process data group by group (each group = 8 datapionts) in an epoch\n",
        "DATA_DIR = path # Dataset path\n",
        "\n",
        "# Loading and preprocess the dataset\n",
        "datagen = ImageDataGenerator(\n",
        "    rescale=1.0/255,  # Normalize pixel values in (0 - 1) range\n",
        "    validation_split=0.2  # Reserve 20% for validation\n",
        ")\n",
        "\n",
        "train_gen = datagen.flow_from_directory(\n",
        "    DATA_DIR,\n",
        "    target_size=IMG_SIZE,\n",
        "    batch_size=BATCH_SIZE,\n",
        "    class_mode='binary',\n",
        "    subset='training'\n",
        ")\n",
        "\n",
        "val_gen = datagen.flow_from_directory(\n",
        "    DATA_DIR,\n",
        "    target_size=IMG_SIZE,\n",
        "    batch_size=BATCH_SIZE,\n",
        "    class_mode='binary',\n",
        "    subset='validation'\n",
        ")"
      ],
      "metadata": {
        "trusted": true,
        "execution": {
          "iopub.status.busy": "2025-01-22T13:03:29.391149Z",
          "iopub.execute_input": "2025-01-22T13:03:29.391513Z",
          "iopub.status.idle": "2025-01-22T13:03:44.770069Z",
          "shell.execute_reply.started": "2025-01-22T13:03:29.391482Z",
          "shell.execute_reply": "2025-01-22T13:03:44.768964Z"
        },
        "id": "_tj6HFH0ISo2",
        "outputId": "b9b76b52-355f-429c-8ede-b87168fa9c5b"
      },
      "outputs": [
        {
          "name": "stdout",
          "text": "Found 5276 images belonging to 3 classes.\nFound 1318 images belonging to 3 classes.\n",
          "output_type": "stream"
        }
      ],
      "execution_count": null
    },
    {
      "cell_type": "markdown",
      "source": [
        "### Data Augmentation"
      ],
      "metadata": {
        "id": "LbATrpUHISo2"
      }
    },
    {
      "cell_type": "code",
      "source": [
        "augmented_datagen = ImageDataGenerator(\n",
        "    rescale=1.0/255,\n",
        "    rotation_range=30,\n",
        "    width_shift_range=0.2,\n",
        "    height_shift_range=0.2,\n",
        "    shear_range=0.2,\n",
        "    zoom_range=0.2,\n",
        "    horizontal_flip=True,\n",
        "    fill_mode='nearest',\n",
        "    validation_split=0.2\n",
        ")\n",
        "\n",
        "train_augmented_gen = augmented_datagen.flow_from_directory(\n",
        "    DATA_DIR,\n",
        "    target_size=IMG_SIZE,\n",
        "    batch_size=BATCH_SIZE,\n",
        "    class_mode='binary',\n",
        "    subset='training'\n",
        ")\n",
        "\n",
        "val_gen = datagen.flow_from_directory(\n",
        "    DATA_DIR,\n",
        "    target_size=IMG_SIZE,\n",
        "    batch_size=BATCH_SIZE,\n",
        "    class_mode='binary',\n",
        "    subset='validation'\n",
        ")"
      ],
      "metadata": {
        "trusted": true,
        "execution": {
          "iopub.status.busy": "2025-01-22T13:03:58.266763Z",
          "iopub.execute_input": "2025-01-22T13:03:58.267528Z",
          "iopub.status.idle": "2025-01-22T13:04:01.257087Z",
          "shell.execute_reply.started": "2025-01-22T13:03:58.267490Z",
          "shell.execute_reply": "2025-01-22T13:04:01.256185Z"
        },
        "id": "GyXc1PVjISo2",
        "outputId": "2e7c98a1-8fb6-40e3-be03-e870e10ef8a2"
      },
      "outputs": [
        {
          "name": "stdout",
          "text": "Found 5276 images belonging to 3 classes.\nFound 1318 images belonging to 3 classes.\n",
          "output_type": "stream"
        }
      ],
      "execution_count": null
    },
    {
      "cell_type": "markdown",
      "source": [
        "### Model Defination"
      ],
      "metadata": {
        "id": "RoKJ8iXJISo3"
      }
    },
    {
      "cell_type": "code",
      "source": [
        "from tensorflow.keras.applications import ResNet50\n",
        "from tensorflow.keras.models import Model\n",
        "from tensorflow.keras.layers import Dense, GlobalAveragePooling2D, Dropout\n",
        "\n",
        "# Load pre-trained ResNet50 model\n",
        "base_model = ResNet50(weights='imagenet', include_top=False, input_shape=(224, 224, 3))\n",
        "\n",
        "# Freeze the base model layers\n",
        "base_model.trainable = False\n",
        "\n",
        "# Add custom layers for binary classification\n",
        "x = base_model.output\n",
        "x = GlobalAveragePooling2D()(x)\n",
        "x = Dense(128, activation='relu')(x)\n",
        "x = Dropout(0.5)(x)\n",
        "predictions = Dense(1, activation='sigmoid')(x)\n",
        "\n",
        "# Create the model\n",
        "model = Model(inputs=base_model.input, outputs=predictions)\n",
        "\n",
        "# Compile the model\n",
        "model.compile(optimizer='adam', loss='binary_crossentropy', metrics=['accuracy'])"
      ],
      "metadata": {
        "trusted": true,
        "execution": {
          "iopub.status.busy": "2025-01-22T13:04:47.210012Z",
          "iopub.execute_input": "2025-01-22T13:04:47.210340Z",
          "iopub.status.idle": "2025-01-22T13:04:50.546092Z",
          "shell.execute_reply.started": "2025-01-22T13:04:47.210316Z",
          "shell.execute_reply": "2025-01-22T13:04:50.545162Z"
        },
        "id": "vUl2CXEsISo3",
        "outputId": "f241d61c-a993-4fc0-f821-15cd21c14547"
      },
      "outputs": [
        {
          "name": "stdout",
          "text": "Downloading data from https://storage.googleapis.com/tensorflow/keras-applications/resnet/resnet50_weights_tf_dim_ordering_tf_kernels_notop.h5\n\u001b[1m94765736/94765736\u001b[0m \u001b[32m━━━━━━━━━━━━━━━━━━━━\u001b[0m\u001b[37m\u001b[0m \u001b[1m0s\u001b[0m 0us/step\n",
          "output_type": "stream"
        }
      ],
      "execution_count": null
    },
    {
      "cell_type": "markdown",
      "source": [
        "### Model Training"
      ],
      "metadata": {
        "id": "aOUfz6i5ISo4"
      }
    },
    {
      "cell_type": "code",
      "source": [
        "# Train the model\n",
        "history = model.fit(\n",
        "    train_augmented_gen,\n",
        "    validation_data=val_gen,\n",
        "    epochs=20,\n",
        "    steps_per_epoch=train_augmented_gen.samples // BATCH_SIZE,\n",
        "    validation_steps=val_gen.samples // BATCH_SIZE\n",
        ")\n"
      ],
      "metadata": {
        "trusted": true,
        "execution": {
          "iopub.status.busy": "2025-01-22T13:05:32.564474Z",
          "iopub.execute_input": "2025-01-22T13:05:32.564816Z",
          "iopub.status.idle": "2025-01-22T13:16:55.415478Z",
          "shell.execute_reply.started": "2025-01-22T13:05:32.564788Z",
          "shell.execute_reply": "2025-01-22T13:16:55.414580Z"
        },
        "id": "PvkQ6eFGISo4",
        "outputId": "1c03c35f-f525-404b-baaf-38f9a0423642"
      },
      "outputs": [
        {
          "name": "stdout",
          "text": "Epoch 1/20\n",
          "output_type": "stream"
        },
        {
          "name": "stderr",
          "text": "/usr/local/lib/python3.10/dist-packages/keras/src/trainers/data_adapters/py_dataset_adapter.py:122: UserWarning: Your `PyDataset` class should call `super().__init__(**kwargs)` in its constructor. `**kwargs` can include `workers`, `use_multiprocessing`, `max_queue_size`. Do not pass these arguments to `fit()`, as they will be ignored.\n  self._warn_if_super_not_called()\n",
          "output_type": "stream"
        },
        {
          "name": "stdout",
          "text": "\u001b[1m164/164\u001b[0m \u001b[32m━━━━━━━━━━━━━━━━━━━━\u001b[0m\u001b[37m\u001b[0m \u001b[1m109s\u001b[0m 567ms/step - accuracy: 0.1146 - loss: 0.3850 - val_accuracy: 0.0998 - val_loss: 0.3444\nEpoch 2/20\n\u001b[1m  1/164\u001b[0m \u001b[37m━━━━━━━━━━━━━━━━━━━━\u001b[0m \u001b[1m13s\u001b[0m 85ms/step - accuracy: 0.1562 - loss: 0.7684",
          "output_type": "stream"
        },
        {
          "name": "stderr",
          "text": "/usr/lib/python3.10/contextlib.py:153: UserWarning: Your input ran out of data; interrupting training. Make sure that your dataset or generator can generate at least `steps_per_epoch * epochs` batches. You may need to use the `.repeat()` function when building your dataset.\n  self.gen.throw(typ, value, traceback)\n",
          "output_type": "stream"
        },
        {
          "name": "stdout",
          "text": "\u001b[1m164/164\u001b[0m \u001b[32m━━━━━━━━━━━━━━━━━━━━\u001b[0m\u001b[37m\u001b[0m \u001b[1m3s\u001b[0m 15ms/step - accuracy: 0.1562 - loss: 0.7684 - val_accuracy: 0.1667 - val_loss: -1.1669\nEpoch 3/20\n\u001b[1m164/164\u001b[0m \u001b[32m━━━━━━━━━━━━━━━━━━━━\u001b[0m\u001b[37m\u001b[0m \u001b[1m63s\u001b[0m 368ms/step - accuracy: 0.0939 - loss: 0.3615 - val_accuracy: 0.1006 - val_loss: 0.3385\nEpoch 4/20\n\u001b[1m164/164\u001b[0m \u001b[32m━━━━━━━━━━━━━━━━━━━━\u001b[0m\u001b[37m\u001b[0m \u001b[1m0s\u001b[0m 225us/step - accuracy: 0.0625 - loss: 0.5059 - val_accuracy: 0.0000e+00 - val_loss: 0.1536\nEpoch 5/20\n\u001b[1m164/164\u001b[0m \u001b[32m━━━━━━━━━━━━━━━━━━━━\u001b[0m\u001b[37m\u001b[0m \u001b[1m64s\u001b[0m 373ms/step - accuracy: 0.1029 - loss: 0.3444 - val_accuracy: 0.1006 - val_loss: 0.3381\nEpoch 6/20\n\u001b[1m164/164\u001b[0m \u001b[32m━━━━━━━━━━━━━━━━━━━━\u001b[0m\u001b[37m\u001b[0m \u001b[1m0s\u001b[0m 265us/step - accuracy: 0.1250 - loss: 0.4461 - val_accuracy: 0.0000e+00 - val_loss: -0.5936\nEpoch 7/20\n\u001b[1m164/164\u001b[0m \u001b[32m━━━━━━━━━━━━━━━━━━━━\u001b[0m\u001b[37m\u001b[0m \u001b[1m63s\u001b[0m 369ms/step - accuracy: 0.1044 - loss: 0.3369 - val_accuracy: 0.0998 - val_loss: 0.3475\nEpoch 8/20\n\u001b[1m164/164\u001b[0m \u001b[32m━━━━━━━━━━━━━━━━━━━━\u001b[0m\u001b[37m\u001b[0m \u001b[1m0s\u001b[0m 221us/step - accuracy: 0.0938 - loss: -0.2667 - val_accuracy: 0.1667 - val_loss: 0.5097\nEpoch 9/20\n\u001b[1m164/164\u001b[0m \u001b[32m━━━━━━━━━━━━━━━━━━━━\u001b[0m\u001b[37m\u001b[0m \u001b[1m64s\u001b[0m 371ms/step - accuracy: 0.1008 - loss: 0.3050 - val_accuracy: 0.0998 - val_loss: 0.3300\nEpoch 10/20\n\u001b[1m164/164\u001b[0m \u001b[32m━━━━━━━━━━━━━━━━━━━━\u001b[0m\u001b[37m\u001b[0m \u001b[1m0s\u001b[0m 256us/step - accuracy: 0.0938 - loss: -0.0105 - val_accuracy: 0.1667 - val_loss: 1.2420\nEpoch 11/20\n\u001b[1m164/164\u001b[0m \u001b[32m━━━━━━━━━━━━━━━━━━━━\u001b[0m\u001b[37m\u001b[0m \u001b[1m64s\u001b[0m 372ms/step - accuracy: 0.1007 - loss: 0.3589 - val_accuracy: 0.0998 - val_loss: 0.3399\nEpoch 12/20\n\u001b[1m164/164\u001b[0m \u001b[32m━━━━━━━━━━━━━━━━━━━━\u001b[0m\u001b[37m\u001b[0m \u001b[1m0s\u001b[0m 276us/step - accuracy: 0.0625 - loss: 1.0112 - val_accuracy: 0.1667 - val_loss: 0.5150\nEpoch 13/20\n\u001b[1m164/164\u001b[0m \u001b[32m━━━━━━━━━━━━━━━━━━━━\u001b[0m\u001b[37m\u001b[0m \u001b[1m63s\u001b[0m 370ms/step - accuracy: 0.1040 - loss: 0.3241 - val_accuracy: 0.0991 - val_loss: 0.3398\nEpoch 14/20\n\u001b[1m164/164\u001b[0m \u001b[32m━━━━━━━━━━━━━━━━━━━━\u001b[0m\u001b[37m\u001b[0m \u001b[1m0s\u001b[0m 234us/step - accuracy: 0.0938 - loss: -0.2585 - val_accuracy: 0.3333 - val_loss: 0.1541\nEpoch 15/20\n\u001b[1m164/164\u001b[0m \u001b[32m━━━━━━━━━━━━━━━━━━━━\u001b[0m\u001b[37m\u001b[0m \u001b[1m63s\u001b[0m 367ms/step - accuracy: 0.1035 - loss: 0.3248 - val_accuracy: 0.1006 - val_loss: 0.3354\nEpoch 16/20\n\u001b[1m164/164\u001b[0m \u001b[32m━━━━━━━━━━━━━━━━━━━━\u001b[0m\u001b[37m\u001b[0m \u001b[1m0s\u001b[0m 276us/step - accuracy: 0.1250 - loss: 0.2985 - val_accuracy: 0.0000e+00 - val_loss: 0.0930\nEpoch 17/20\n\u001b[1m164/164\u001b[0m \u001b[32m━━━━━━━━━━━━━━━━━━━━\u001b[0m\u001b[37m\u001b[0m \u001b[1m63s\u001b[0m 368ms/step - accuracy: 0.0999 - loss: 0.3854 - val_accuracy: 0.1006 - val_loss: 0.3325\nEpoch 18/20\n\u001b[1m164/164\u001b[0m \u001b[32m━━━━━━━━━━━━━━━━━━━━\u001b[0m\u001b[37m\u001b[0m \u001b[1m0s\u001b[0m 248us/step - accuracy: 0.1562 - loss: 0.4667 - val_accuracy: 0.0000e+00 - val_loss: 0.8569\nEpoch 19/20\n\u001b[1m164/164\u001b[0m \u001b[32m━━━━━━━━━━━━━━━━━━━━\u001b[0m\u001b[37m\u001b[0m \u001b[1m63s\u001b[0m 369ms/step - accuracy: 0.1034 - loss: 0.3135 - val_accuracy: 0.1006 - val_loss: 0.3368\nEpoch 20/20\n\u001b[1m164/164\u001b[0m \u001b[32m━━━━━━━━━━━━━━━━━━━━\u001b[0m\u001b[37m\u001b[0m \u001b[1m0s\u001b[0m 253us/step - accuracy: 0.0938 - loss: 0.1604 - val_accuracy: 0.0000e+00 - val_loss: 0.1597\n",
          "output_type": "stream"
        }
      ],
      "execution_count": null
    },
    {
      "cell_type": "markdown",
      "source": [
        "### **Model Evaluation**"
      ],
      "metadata": {
        "id": "h9-MDCf-ISo5"
      }
    },
    {
      "cell_type": "code",
      "source": [
        "from sklearn.metrics import classification_report, confusion_matrix\n",
        "\n",
        "# Generate predictions\n",
        "test_gen = datagen.flow_from_directory(\n",
        "    DATA_DIR,\n",
        "    target_size=IMG_SIZE,\n",
        "    batch_size=BATCH_SIZE,\n",
        "    class_mode='binary',\n",
        "    subset='validation',\n",
        "    shuffle=False\n",
        ")\n",
        "\n",
        "# Evaluate model\n",
        "y_true = test_gen.classes\n",
        "y_pred = (model.predict(test_gen) > 0.5).astype(\"int32\").flatten()\n",
        "\n",
        "# Print evaluation metrics\n",
        "print(classification_report(y_true, y_pred, target_names=['Benign', 'Malignant', 'Others']))"
      ],
      "metadata": {
        "trusted": true,
        "execution": {
          "iopub.status.busy": "2025-01-22T13:21:00.794599Z",
          "iopub.execute_input": "2025-01-22T13:21:00.794941Z",
          "iopub.status.idle": "2025-01-22T13:21:06.947420Z",
          "shell.execute_reply.started": "2025-01-22T13:21:00.794917Z",
          "shell.execute_reply": "2025-01-22T13:21:06.946610Z"
        },
        "id": "XW0uOQZLISo5",
        "outputId": "f2c1ef68-1ee7-44b6-fbaa-dc61ed7421ba"
      },
      "outputs": [
        {
          "name": "stdout",
          "text": "Found 1318 images belonging to 3 classes.\n\u001b[1m 1/42\u001b[0m \u001b[37m━━━━━━━━━━━━━━━━━━━━\u001b[0m \u001b[1m5s\u001b[0m 124ms/step",
          "output_type": "stream"
        },
        {
          "name": "stderr",
          "text": "/usr/local/lib/python3.10/dist-packages/keras/src/trainers/data_adapters/py_dataset_adapter.py:122: UserWarning: Your `PyDataset` class should call `super().__init__(**kwargs)` in its constructor. `**kwargs` can include `workers`, `use_multiprocessing`, `max_queue_size`. Do not pass these arguments to `fit()`, as they will be ignored.\n  self._warn_if_super_not_called()\n",
          "output_type": "stream"
        },
        {
          "name": "stdout",
          "text": "\u001b[1m42/42\u001b[0m \u001b[32m━━━━━━━━━━━━━━━━━━━━\u001b[0m\u001b[37m\u001b[0m \u001b[1m3s\u001b[0m 81ms/step\n              precision    recall  f1-score   support\n\n      Benign       0.00      0.00      0.00       659\n   Malignant       0.10      1.00      0.18       132\n      Others       0.00      0.00      0.00       527\n\n    accuracy                           0.10      1318\n   macro avg       0.03      0.33      0.06      1318\nweighted avg       0.01      0.10      0.02      1318\n\n",
          "output_type": "stream"
        },
        {
          "name": "stderr",
          "text": "/usr/local/lib/python3.10/dist-packages/sklearn/metrics/_classification.py:1344: UndefinedMetricWarning: Precision and F-score are ill-defined and being set to 0.0 in labels with no predicted samples. Use `zero_division` parameter to control this behavior.\n  _warn_prf(average, modifier, msg_start, len(result))\n/usr/local/lib/python3.10/dist-packages/sklearn/metrics/_classification.py:1344: UndefinedMetricWarning: Precision and F-score are ill-defined and being set to 0.0 in labels with no predicted samples. Use `zero_division` parameter to control this behavior.\n  _warn_prf(average, modifier, msg_start, len(result))\n/usr/local/lib/python3.10/dist-packages/sklearn/metrics/_classification.py:1344: UndefinedMetricWarning: Precision and F-score are ill-defined and being set to 0.0 in labels with no predicted samples. Use `zero_division` parameter to control this behavior.\n  _warn_prf(average, modifier, msg_start, len(result))\n",
          "output_type": "stream"
        }
      ],
      "execution_count": null
    },
    {
      "cell_type": "markdown",
      "source": [
        "### Fine Tuning"
      ],
      "metadata": {
        "id": "oSlh_TeCISo5"
      }
    },
    {
      "cell_type": "code",
      "source": [
        "# Fine-tuning (unfreezing some layers)\n",
        "base_model.trainable = True\n",
        "model.compile(optimizer=tf.keras.optimizers.Adam(1e-5), loss='binary_crossentropy', metrics=['accuracy'])\n",
        "\n",
        "\n",
        "# Fine-tune the model\n",
        "fine_tune_history = model.fit(\n",
        "    train_augmented_gen,\n",
        "    validation_data=val_gen,\n",
        "    epochs=20,\n",
        "    steps_per_epoch=train_augmented_gen.samples // BATCH_SIZE,\n",
        "    validation_steps=val_gen.samples // BATCH_SIZE\n",
        ")\n"
      ],
      "metadata": {
        "trusted": true,
        "execution": {
          "iopub.status.busy": "2025-01-22T13:21:50.980010Z",
          "iopub.execute_input": "2025-01-22T13:21:50.980322Z",
          "iopub.status.idle": "2025-01-22T13:34:18.561162Z",
          "shell.execute_reply.started": "2025-01-22T13:21:50.980299Z",
          "shell.execute_reply": "2025-01-22T13:34:18.560176Z"
        },
        "id": "uea4MsCOISo5",
        "outputId": "ef984ae8-7766-4cb3-9ff3-495b66ad7047"
      },
      "outputs": [
        {
          "name": "stdout",
          "text": "Epoch 1/20\n\u001b[1m164/164\u001b[0m \u001b[32m━━━━━━━━━━━━━━━━━━━━\u001b[0m\u001b[37m\u001b[0m \u001b[1m151s\u001b[0m 571ms/step - accuracy: 0.1007 - loss: 0.6926 - val_accuracy: 0.0991 - val_loss: 1.3030\nEpoch 2/20\n\u001b[1m  1/164\u001b[0m \u001b[37m━━━━━━━━━━━━━━━━━━━━\u001b[0m \u001b[1m50s\u001b[0m 313ms/step - accuracy: 0.0312 - loss: -0.9455",
          "output_type": "stream"
        },
        {
          "name": "stderr",
          "text": "/usr/lib/python3.10/contextlib.py:153: UserWarning: Your input ran out of data; interrupting training. Make sure that your dataset or generator can generate at least `steps_per_epoch * epochs` batches. You may need to use the `.repeat()` function when building your dataset.\n  self.gen.throw(typ, value, traceback)\n",
          "output_type": "stream"
        },
        {
          "name": "stdout",
          "text": "\u001b[1m164/164\u001b[0m \u001b[32m━━━━━━━━━━━━━━━━━━━━\u001b[0m\u001b[37m\u001b[0m \u001b[1m2s\u001b[0m 8ms/step - accuracy: 0.0312 - loss: -0.9455 - val_accuracy: 0.3333 - val_loss: -9.1320\nEpoch 3/20\n\u001b[1m164/164\u001b[0m \u001b[32m━━━━━━━━━━━━━━━━━━━━\u001b[0m\u001b[37m\u001b[0m \u001b[1m65s\u001b[0m 382ms/step - accuracy: 0.0980 - loss: 0.4136 - val_accuracy: 0.0998 - val_loss: 1.0827\nEpoch 4/20\n\u001b[1m164/164\u001b[0m \u001b[32m━━━━━━━━━━━━━━━━━━━━\u001b[0m\u001b[37m\u001b[0m \u001b[1m0s\u001b[0m 252us/step - accuracy: 0.0938 - loss: 2.6599 - val_accuracy: 0.1667 - val_loss: -1.4003\nEpoch 5/20\n\u001b[1m164/164\u001b[0m \u001b[32m━━━━━━━━━━━━━━━━━━━━\u001b[0m\u001b[37m\u001b[0m \u001b[1m66s\u001b[0m 389ms/step - accuracy: 0.0994 - loss: 0.4179 - val_accuracy: 0.0998 - val_loss: 0.5515\nEpoch 6/20\n\u001b[1m164/164\u001b[0m \u001b[32m━━━━━━━━━━━━━━━━━━━━\u001b[0m\u001b[37m\u001b[0m \u001b[1m0s\u001b[0m 302us/step - accuracy: 0.1875 - loss: -0.1785 - val_accuracy: 0.1667 - val_loss: 2.2552\nEpoch 7/20\n\u001b[1m164/164\u001b[0m \u001b[32m━━━━━━━━━━━━━━━━━━━━\u001b[0m\u001b[37m\u001b[0m \u001b[1m65s\u001b[0m 382ms/step - accuracy: 0.1115 - loss: 0.3893 - val_accuracy: 0.0991 - val_loss: 0.3874\nEpoch 8/20\n\u001b[1m164/164\u001b[0m \u001b[32m━━━━━━━━━━━━━━━━━━━━\u001b[0m\u001b[37m\u001b[0m \u001b[1m0s\u001b[0m 258us/step - accuracy: 0.0625 - loss: 0.7682 - val_accuracy: 0.3333 - val_loss: -2.7780\nEpoch 9/20\n\u001b[1m164/164\u001b[0m \u001b[32m━━━━━━━━━━━━━━━━━━━━\u001b[0m\u001b[37m\u001b[0m \u001b[1m65s\u001b[0m 380ms/step - accuracy: 0.0997 - loss: 0.3955 - val_accuracy: 0.1006 - val_loss: 0.3869\nEpoch 10/20\n\u001b[1m164/164\u001b[0m \u001b[32m━━━━━━━━━━━━━━━━━━━━\u001b[0m\u001b[37m\u001b[0m \u001b[1m0s\u001b[0m 259us/step - accuracy: 0.0625 - loss: -0.1975 - val_accuracy: 0.0000e+00 - val_loss: -0.5740\nEpoch 11/20\n\u001b[1m164/164\u001b[0m \u001b[32m━━━━━━━━━━━━━━━━━━━━\u001b[0m\u001b[37m\u001b[0m \u001b[1m65s\u001b[0m 382ms/step - accuracy: 0.1019 - loss: 0.3014 - val_accuracy: 0.0998 - val_loss: 0.6203\nEpoch 12/20\n\u001b[1m164/164\u001b[0m \u001b[32m━━━━━━━━━━━━━━━━━━━━\u001b[0m\u001b[37m\u001b[0m \u001b[1m0s\u001b[0m 279us/step - accuracy: 0.1250 - loss: 1.1287 - val_accuracy: 0.1667 - val_loss: -0.7822\nEpoch 13/20\n\u001b[1m164/164\u001b[0m \u001b[32m━━━━━━━━━━━━━━━━━━━━\u001b[0m\u001b[37m\u001b[0m \u001b[1m66s\u001b[0m 387ms/step - accuracy: 0.1072 - loss: 0.3522 - val_accuracy: 0.0991 - val_loss: 0.8388\nEpoch 14/20\n\u001b[1m164/164\u001b[0m \u001b[32m━━━━━━━━━━━━━━━━━━━━\u001b[0m\u001b[37m\u001b[0m \u001b[1m0s\u001b[0m 257us/step - accuracy: 0.0625 - loss: -0.2869 - val_accuracy: 0.3333 - val_loss: 1.0477\nEpoch 15/20\n\u001b[1m164/164\u001b[0m \u001b[32m━━━━━━━━━━━━━━━━━━━━\u001b[0m\u001b[37m\u001b[0m \u001b[1m65s\u001b[0m 382ms/step - accuracy: 0.1069 - loss: 0.3848 - val_accuracy: 0.0998 - val_loss: 1.0054\nEpoch 16/20\n\u001b[1m164/164\u001b[0m \u001b[32m━━━━━━━━━━━━━━━━━━━━\u001b[0m\u001b[37m\u001b[0m \u001b[1m0s\u001b[0m 258us/step - accuracy: 0.0625 - loss: 0.1507 - val_accuracy: 0.1667 - val_loss: 0.9779\nEpoch 17/20\n\u001b[1m164/164\u001b[0m \u001b[32m━━━━━━━━━━━━━━━━━━━━\u001b[0m\u001b[37m\u001b[0m \u001b[1m65s\u001b[0m 381ms/step - accuracy: 0.1065 - loss: 0.3042 - val_accuracy: 0.1006 - val_loss: 1.0129\nEpoch 18/20\n\u001b[1m164/164\u001b[0m \u001b[32m━━━━━━━━━━━━━━━━━━━━\u001b[0m\u001b[37m\u001b[0m \u001b[1m0s\u001b[0m 313us/step - accuracy: 0.0000e+00 - loss: 1.1295 - val_accuracy: 0.0000e+00 - val_loss: 1.1770\nEpoch 19/20\n\u001b[1m164/164\u001b[0m \u001b[32m━━━━━━━━━━━━━━━━━━━━\u001b[0m\u001b[37m\u001b[0m \u001b[1m66s\u001b[0m 385ms/step - accuracy: 0.0968 - loss: 0.5066 - val_accuracy: 0.0998 - val_loss: 1.0501\nEpoch 20/20\n\u001b[1m164/164\u001b[0m \u001b[32m━━━━━━━━━━━━━━━━━━━━\u001b[0m\u001b[37m\u001b[0m \u001b[1m0s\u001b[0m 290us/step - accuracy: 0.1562 - loss: 0.5257 - val_accuracy: 0.1667 - val_loss: -0.7532\n",
          "output_type": "stream"
        }
      ],
      "execution_count": null
    },
    {
      "cell_type": "markdown",
      "source": [
        "### Model Evaluation"
      ],
      "metadata": {
        "id": "PleHt6A8ISo6"
      }
    },
    {
      "cell_type": "code",
      "source": [
        "from sklearn.metrics import classification_report, confusion_matrix\n",
        "\n",
        "# Generate predictions\n",
        "test_gen = datagen.flow_from_directory(\n",
        "    DATA_DIR,\n",
        "    target_size=IMG_SIZE,\n",
        "    batch_size=BATCH_SIZE,\n",
        "    class_mode='binary',\n",
        "    subset='validation',\n",
        "    shuffle=False\n",
        ")\n",
        "\n",
        "# Evaluate model\n",
        "y_true = test_gen.classes\n",
        "y_pred = (model.predict(test_gen) > 0.5).astype(\"int32\").flatten()\n",
        "\n",
        "# Print evaluation metrics\n",
        "print(classification_report(y_true, y_pred, target_names=['Benign', 'Malignant', 'Others']))\n"
      ],
      "metadata": {
        "trusted": true,
        "execution": {
          "iopub.status.busy": "2025-01-22T13:37:57.166788Z",
          "iopub.execute_input": "2025-01-22T13:37:57.167089Z",
          "iopub.status.idle": "2025-01-22T13:38:03.855579Z",
          "shell.execute_reply.started": "2025-01-22T13:37:57.167066Z",
          "shell.execute_reply": "2025-01-22T13:38:03.854673Z"
        },
        "id": "IQiKZDfwISo6",
        "outputId": "f7a2220c-0dcf-4e9c-c941-ea66cf1b3eb1"
      },
      "outputs": [
        {
          "name": "stdout",
          "text": "Found 1318 images belonging to 3 classes.\n\u001b[1m 1/42\u001b[0m \u001b[37m━━━━━━━━━━━━━━━━━━━━\u001b[0m \u001b[1m5s\u001b[0m 140ms/step",
          "output_type": "stream"
        },
        {
          "name": "stderr",
          "text": "/usr/local/lib/python3.10/dist-packages/keras/src/trainers/data_adapters/py_dataset_adapter.py:122: UserWarning: Your `PyDataset` class should call `super().__init__(**kwargs)` in its constructor. `**kwargs` can include `workers`, `use_multiprocessing`, `max_queue_size`. Do not pass these arguments to `fit()`, as they will be ignored.\n  self._warn_if_super_not_called()\n",
          "output_type": "stream"
        },
        {
          "name": "stdout",
          "text": "\u001b[1m42/42\u001b[0m \u001b[32m━━━━━━━━━━━━━━━━━━━━\u001b[0m\u001b[37m\u001b[0m \u001b[1m3s\u001b[0m 81ms/step\n              precision    recall  f1-score   support\n\n      Benign       0.00      0.00      0.00       659\n   Malignant       0.10      1.00      0.18       132\n      Others       0.00      0.00      0.00       527\n\n    accuracy                           0.10      1318\n   macro avg       0.03      0.33      0.06      1318\nweighted avg       0.01      0.10      0.02      1318\n\n",
          "output_type": "stream"
        },
        {
          "name": "stderr",
          "text": "/usr/local/lib/python3.10/dist-packages/sklearn/metrics/_classification.py:1344: UndefinedMetricWarning: Precision and F-score are ill-defined and being set to 0.0 in labels with no predicted samples. Use `zero_division` parameter to control this behavior.\n  _warn_prf(average, modifier, msg_start, len(result))\n/usr/local/lib/python3.10/dist-packages/sklearn/metrics/_classification.py:1344: UndefinedMetricWarning: Precision and F-score are ill-defined and being set to 0.0 in labels with no predicted samples. Use `zero_division` parameter to control this behavior.\n  _warn_prf(average, modifier, msg_start, len(result))\n/usr/local/lib/python3.10/dist-packages/sklearn/metrics/_classification.py:1344: UndefinedMetricWarning: Precision and F-score are ill-defined and being set to 0.0 in labels with no predicted samples. Use `zero_division` parameter to control this behavior.\n  _warn_prf(average, modifier, msg_start, len(result))\n",
          "output_type": "stream"
        }
      ],
      "execution_count": null
    },
    {
      "cell_type": "code",
      "source": [
        "import numpy as np\n",
        "import pandas as pd\n",
        "import matplotlib.pyplot as plt\n",
        "\n",
        "# Define the results as dictionaries\n",
        "build_model_results = {\n",
        "    \"Benign\": [0.00, 0.00, 0.00],\n",
        "    \"Malignant\": [0.10, 1.00, 0.18],\n",
        "    \"Others\": [0.00, 0.00, 0.00]\n",
        "}\n",
        "\n",
        "fine_tuned_model_results = {\n",
        "    \"Benign\": [0.00, 0.00, 0.00],\n",
        "    \"Malignant\": [0.10, 1.00, 0.18],\n",
        "    \"Others\": [0.00, 0.00, 0.00]\n",
        "}\n",
        "\n",
        "metrics = [\"Precision\", \"Recall\", \"F1-Score\"]\n",
        "classes = list(build_model_results.keys())\n",
        "\n",
        "# Create dataframes for easy manipulation\n",
        "build_df = pd.DataFrame(build_model_results, index=metrics)\n",
        "fine_tuned_df = pd.DataFrame(fine_tuned_model_results, index=metrics)\n",
        "\n",
        "# Plot the results\n",
        "fig, axes = plt.subplots(1, 3, figsize=(15, 5), sharey=True)\n",
        "fig.suptitle(\"Model Comparison: Build Model vs Fine-tuned Model\", fontsize=16)\n",
        "\n",
        "for i, metric in enumerate(metrics):\n",
        "    ax = axes[i]\n",
        "    x = np.arange(len(classes))\n",
        "    width = 0.35\n",
        "\n",
        "    ax.bar(x - width/2, build_df.loc[metric], width, label=\"Build Model\")\n",
        "    ax.bar(x + width/2, fine_tuned_df.loc[metric], width, label=\"Fine-tuned Model\")\n",
        "\n",
        "    ax.set_title(metric)\n",
        "    ax.set_xticks(x)\n",
        "    ax.set_xticklabels(classes)\n",
        "    ax.set_ylim(0, 1.1)\n",
        "    ax.set_ylabel(\"Score\") if i == 0 else None\n",
        "    ax.legend()\n",
        "\n",
        "plt.tight_layout(rect=[0, 0, 1, 0.95])\n",
        "plt.show()\n"
      ],
      "metadata": {
        "trusted": true,
        "execution": {
          "iopub.status.busy": "2025-01-22T13:44:17.178791Z",
          "iopub.execute_input": "2025-01-22T13:44:17.179151Z",
          "iopub.status.idle": "2025-01-22T13:44:18.235038Z",
          "shell.execute_reply.started": "2025-01-22T13:44:17.179126Z",
          "shell.execute_reply": "2025-01-22T13:44:18.234122Z"
        },
        "id": "2YMqRJiFISo7",
        "outputId": "6a49519b-1aeb-47d2-e2da-08edb7697881"
      },
      "outputs": [
        {
          "output_type": "display_data",
          "data": {
            "text/plain": "<Figure size 1500x500 with 3 Axes>",
            "image/png": "[encoded data removed]"
          },
          "metadata": {}
        }
      ],
      "execution_count": null
    }
  ]
}